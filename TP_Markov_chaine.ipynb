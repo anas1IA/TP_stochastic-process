{
  "nbformat": 4,
  "nbformat_minor": 0,
  "metadata": {
    "colab": {
      "provenance": [],
      "authorship_tag": "ABX9TyNqiqyAZNkQsh/z4rnITPd1",
      "include_colab_link": true
    },
    "kernelspec": {
      "name": "python3",
      "display_name": "Python 3"
    },
    "language_info": {
      "name": "python"
    }
  },
  "cells": [
    {
      "cell_type": "markdown",
      "metadata": {
        "id": "view-in-github",
        "colab_type": "text"
      },
      "source": [
        "<a href=\"https://colab.research.google.com/github/anas1IA/TP_stochastic-process/blob/main/TP_Markov_chaine.ipynb\" target=\"_parent\"><img src=\"https://colab.research.google.com/assets/colab-badge.svg\" alt=\"Open In Colab\"/></a>"
      ]
    },
    {
      "cell_type": "code",
      "execution_count": 1,
      "metadata": {
        "id": "b5Ig433GIi0F"
      },
      "outputs": [],
      "source": [
        "import numpy as np\n",
        "import pandas as pd\n"
      ]
    },
    {
      "cell_type": "code",
      "source": [
        "P_matrix_transition = np.array([[0,3/4,1/4],\n",
        "               [1/4,0,3/4],\n",
        "                [1/4,1/4,1/2]])"
      ],
      "metadata": {
        "id": "1HF6AueDJPSS"
      },
      "execution_count": 14,
      "outputs": []
    },
    {
      "cell_type": "code",
      "source": [
        "A = P_matrix_transition"
      ],
      "metadata": {
        "id": "H0g-b8KWL7nf"
      },
      "execution_count": 15,
      "outputs": []
    },
    {
      "cell_type": "code",
      "source": [
        "B=A@A@A@A@A@A@A@A@A@A@A@A@A@A@A@A@A@A@A@A@A@A@A@A@A@A@A@A@A@A@A@A@A@A@A@A@A@A@A@A@A@A@A@A@A@A@A@A@A\n",
        "25*B"
      ],
      "metadata": {
        "colab": {
          "base_uri": "https://localhost:8080/"
        },
        "id": "vTgqzSHLJj7c",
        "outputId": "7b2ff045-bab4-4b20-8efd-ebce431ece77"
      },
      "execution_count": 16,
      "outputs": [
        {
          "output_type": "execute_result",
          "data": {
            "text/plain": [
              "array([[ 5.,  7., 13.],\n",
              "       [ 5.,  7., 13.],\n",
              "       [ 5.,  7., 13.]])"
            ]
          },
          "metadata": {},
          "execution_count": 16
        }
      ]
    },
    {
      "cell_type": "code",
      "source": [
        "Pi_Fes = np.array([1,0,0])\n",
        "Pi_Tanger = np.array([0,1,0])\n",
        "Pi_Rabat = np.array([0,0,1])"
      ],
      "metadata": {
        "id": "Nw6uqsUyMS91"
      },
      "execution_count": 21,
      "outputs": []
    },
    {
      "cell_type": "code",
      "source": [
        "Pi1_Fes = Pi_Fes@P_matrix_transition\n",
        "Pi1_Fes"
      ],
      "metadata": {
        "colab": {
          "base_uri": "https://localhost:8080/"
        },
        "id": "gHy85HG5OC84",
        "outputId": "e1156793-978d-4f28-b089-75ea5bf8574a"
      },
      "execution_count": 22,
      "outputs": [
        {
          "output_type": "execute_result",
          "data": {
            "text/plain": [
              "array([0.  , 0.75, 0.25])"
            ]
          },
          "metadata": {},
          "execution_count": 22
        }
      ]
    },
    {
      "cell_type": "code",
      "source": [
        "Pi1_Tanger  = Pi_Tanger@ P_matrix_transition\n",
        "Pi1_Tanger"
      ],
      "metadata": {
        "colab": {
          "base_uri": "https://localhost:8080/"
        },
        "id": "ArJMib7FT1ek",
        "outputId": "02ebaf03-7aaa-4033-fac4-3a34de7a4d4d"
      },
      "execution_count": 23,
      "outputs": [
        {
          "output_type": "execute_result",
          "data": {
            "text/plain": [
              "array([0.25, 0.  , 0.75])"
            ]
          },
          "metadata": {},
          "execution_count": 23
        }
      ]
    },
    {
      "cell_type": "code",
      "source": [
        "Pi1_Rabat = Pi_Rabat@P_matrix_transition\n",
        "Pi1_Rabat"
      ],
      "metadata": {
        "colab": {
          "base_uri": "https://localhost:8080/"
        },
        "id": "Wuqzv6u7T1hY",
        "outputId": "61bd10e9-72c6-4a86-d222-a8742f91546e"
      },
      "execution_count": 25,
      "outputs": [
        {
          "output_type": "execute_result",
          "data": {
            "text/plain": [
              "array([0.25, 0.25, 0.5 ])"
            ]
          },
          "metadata": {},
          "execution_count": 25
        }
      ]
    },
    {
      "cell_type": "code",
      "source": [
        "def transition_step(Pi , P ,n = number of steps):\n",
        "  pass\n",
        "\n"
      ],
      "metadata": {
        "id": "s_Kla9DLUZZ_"
      },
      "execution_count": null,
      "outputs": []
    }
  ]
}