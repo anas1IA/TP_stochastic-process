{
  "nbformat": 4,
  "nbformat_minor": 0,
  "metadata": {
    "colab": {
      "provenance": [],
      "authorship_tag": "ABX9TyP/1A0gWy7ceJIWmgtJOFuF",
      "include_colab_link": true
    },
    "kernelspec": {
      "name": "python3",
      "display_name": "Python 3"
    },
    "language_info": {
      "name": "python"
    }
  },
  "cells": [
    {
      "cell_type": "markdown",
      "metadata": {
        "id": "view-in-github",
        "colab_type": "text"
      },
      "source": [
        "<a href=\"https://colab.research.google.com/github/anas1IA/TP_stochastic-process/blob/main/TP_Markov_chaine.ipynb\" target=\"_parent\"><img src=\"https://colab.research.google.com/assets/colab-badge.svg\" alt=\"Open In Colab\"/></a>"
      ]
    },
    {
      "cell_type": "code",
      "execution_count": 202,
      "metadata": {
        "id": "b5Ig433GIi0F"
      },
      "outputs": [],
      "source": [
        "import numpy as np\n",
        "import pandas as pd\n"
      ]
    },
    {
      "cell_type": "code",
      "source": [
        "P_matrix_transition = np.array([[0,3/4,1/4],\n",
        "               [1/4,0,3/4],\n",
        "                [1/4,1/4,1/2]])"
      ],
      "metadata": {
        "id": "1HF6AueDJPSS"
      },
      "execution_count": 203,
      "outputs": []
    },
    {
      "cell_type": "code",
      "source": [
        "P_matrix_transition"
      ],
      "metadata": {
        "id": "nncim92RwdnK",
        "outputId": "44480853-37d5-4c33-ffd2-a64ba86e0b20",
        "colab": {
          "base_uri": "https://localhost:8080/"
        }
      },
      "execution_count": 204,
      "outputs": [
        {
          "output_type": "execute_result",
          "data": {
            "text/plain": [
              "array([[0.  , 0.75, 0.25],\n",
              "       [0.25, 0.  , 0.75],\n",
              "       [0.25, 0.25, 0.5 ]])"
            ]
          },
          "metadata": {},
          "execution_count": 204
        }
      ]
    },
    {
      "cell_type": "code",
      "source": [
        "A = P_matrix_transition"
      ],
      "metadata": {
        "id": "H0g-b8KWL7nf"
      },
      "execution_count": 205,
      "outputs": []
    },
    {
      "cell_type": "code",
      "source": [
        "B=A@A@A@A@A@A@A@A@A@A@A@A@A@A@A@A@A@A@A@A@A@A@A@A@A@A@A@A@A@A@A@A@A@A@A@A@A@A@A@A@A@A@A@A@A@A@A@A@A\n",
        "25*B"
      ],
      "metadata": {
        "colab": {
          "base_uri": "https://localhost:8080/"
        },
        "id": "vTgqzSHLJj7c",
        "outputId": "f0182d67-6b3e-4706-dbce-8c910aa18ef4"
      },
      "execution_count": 206,
      "outputs": [
        {
          "output_type": "execute_result",
          "data": {
            "text/plain": [
              "array([[ 5.,  7., 13.],\n",
              "       [ 5.,  7., 13.],\n",
              "       [ 5.,  7., 13.]])"
            ]
          },
          "metadata": {},
          "execution_count": 206
        }
      ]
    },
    {
      "cell_type": "code",
      "source": [
        "B"
      ],
      "metadata": {
        "id": "DyH9nLFn2jjs",
        "outputId": "ed0deae2-0020-48ae-f10c-a8784e1bd4b5",
        "colab": {
          "base_uri": "https://localhost:8080/"
        }
      },
      "execution_count": 207,
      "outputs": [
        {
          "output_type": "execute_result",
          "data": {
            "text/plain": [
              "array([[0.2 , 0.28, 0.52],\n",
              "       [0.2 , 0.28, 0.52],\n",
              "       [0.2 , 0.28, 0.52]])"
            ]
          },
          "metadata": {},
          "execution_count": 207
        }
      ]
    },
    {
      "cell_type": "code",
      "source": [
        "Pi_Fes = np.array([1,0,0])\n",
        "Pi_Tanger = np.array([0,1,0])\n",
        "Pi_Rabat = np.array([0,0,1])"
      ],
      "metadata": {
        "id": "Nw6uqsUyMS91"
      },
      "execution_count": 208,
      "outputs": []
    },
    {
      "cell_type": "code",
      "source": [
        "Pi1_Fes = Pi_Fes@P_matrix_transition\n",
        "Pi1_Fes"
      ],
      "metadata": {
        "colab": {
          "base_uri": "https://localhost:8080/"
        },
        "id": "gHy85HG5OC84",
        "outputId": "5ed6d649-819c-4b93-ca86-47577e6c2821"
      },
      "execution_count": 209,
      "outputs": [
        {
          "output_type": "execute_result",
          "data": {
            "text/plain": [
              "array([0.  , 0.75, 0.25])"
            ]
          },
          "metadata": {},
          "execution_count": 209
        }
      ]
    },
    {
      "cell_type": "code",
      "source": [
        "Pi1_Tanger  = Pi_Tanger@ P_matrix_transition\n",
        "Pi1_Tanger"
      ],
      "metadata": {
        "colab": {
          "base_uri": "https://localhost:8080/"
        },
        "id": "ArJMib7FT1ek",
        "outputId": "e6693be7-b298-4f45-e535-f22ab8538dde"
      },
      "execution_count": 210,
      "outputs": [
        {
          "output_type": "execute_result",
          "data": {
            "text/plain": [
              "array([0.25, 0.  , 0.75])"
            ]
          },
          "metadata": {},
          "execution_count": 210
        }
      ]
    },
    {
      "cell_type": "code",
      "source": [
        "Pi1_Rabat = Pi_Rabat@P_matrix_transition\n",
        "Pi1_Rabat"
      ],
      "metadata": {
        "colab": {
          "base_uri": "https://localhost:8080/"
        },
        "id": "Wuqzv6u7T1hY",
        "outputId": "dbcba826-7b8d-4719-cc70-832eb082ea10"
      },
      "execution_count": 211,
      "outputs": [
        {
          "output_type": "execute_result",
          "data": {
            "text/plain": [
              "array([0.25, 0.25, 0.5 ])"
            ]
          },
          "metadata": {},
          "execution_count": 211
        }
      ]
    },
    {
      "cell_type": "code",
      "source": [
        "def transition_mult(Pi , P ,n ,j=-1 ):\n",
        "\n",
        "  if j != n :\n",
        "    C = Pi@P\n",
        "    j+=1\n",
        "    return transition_mult(C,P,n ,j)\n",
        "  else :\n",
        "    return Pi\n",
        "\n",
        "\n"
      ],
      "metadata": {
        "id": "s_Kla9DLUZZ_"
      },
      "execution_count": 212,
      "outputs": []
    },
    {
      "cell_type": "code",
      "source": [
        "def transition_mult(Pi, P, n, j=0):\n",
        "    if j == n:\n",
        "        return Pi\n",
        "    else:\n",
        "        C = Pi @ P\n",
        "        j += 1\n",
        "        return transition_mult(C, P, n, j)"
      ],
      "metadata": {
        "id": "QTufS7n_r6-R"
      },
      "execution_count": 213,
      "outputs": []
    },
    {
      "cell_type": "code",
      "source": [
        "transition_mult(Pi_Rabat,A,11)"
      ],
      "metadata": {
        "id": "c81fYy6JqFOS",
        "outputId": "053164f4-e93f-4682-c2f1-febf2497cb6f",
        "colab": {
          "base_uri": "https://localhost:8080/"
        }
      },
      "execution_count": 214,
      "outputs": [
        {
          "output_type": "execute_result",
          "data": {
            "text/plain": [
              "array([0.20000005, 0.27999902, 0.52000093])"
            ]
          },
          "metadata": {},
          "execution_count": 214
        }
      ]
    },
    {
      "cell_type": "code",
      "source": [
        "import matplotlib.pyplot as plt\n",
        "import seaborn as se"
      ],
      "metadata": {
        "id": "_M2tVZNAwppx"
      },
      "execution_count": 215,
      "outputs": []
    },
    {
      "cell_type": "code",
      "source": [
        "transition_mult(Pi_Fes,A,11)"
      ],
      "metadata": {
        "id": "lfqCfbCGxK8X",
        "outputId": "04c1fb28-52ab-4c7f-fedf-30874aaa5e3a",
        "colab": {
          "base_uri": "https://localhost:8080/"
        }
      },
      "execution_count": 216,
      "outputs": [
        {
          "output_type": "execute_result",
          "data": {
            "text/plain": [
              "array([0.19999981, 0.28000426, 0.51999593])"
            ]
          },
          "metadata": {},
          "execution_count": 216
        }
      ]
    },
    {
      "cell_type": "code",
      "source": [
        "transition_mult(Pi_Tanger,A,11)"
      ],
      "metadata": {
        "id": "w947nqKgxXwO",
        "outputId": "55feb34c-30ef-44aa-c466-1f0e801df9e6",
        "colab": {
          "base_uri": "https://localhost:8080/"
        }
      },
      "execution_count": 217,
      "outputs": [
        {
          "output_type": "execute_result",
          "data": {
            "text/plain": [
              "array([0.20000005, 0.27999878, 0.52000117])"
            ]
          },
          "metadata": {},
          "execution_count": 217
        }
      ]
    },
    {
      "cell_type": "markdown",
      "source": [],
      "metadata": {
        "id": "vPzB02EQ30Vi"
      }
    },
    {
      "cell_type": "code",
      "source": [
        "x = np.linspace(-5, 5, 100)\n",
        "y = np.linspace(-5, 5, 100)\n",
        "x"
      ],
      "metadata": {
        "id": "VJMROWQs4Bj9",
        "outputId": "f4016ccd-8a84-4c61-d446-fd6cd99dc6f2",
        "colab": {
          "base_uri": "https://localhost:8080/"
        }
      },
      "execution_count": 218,
      "outputs": [
        {
          "output_type": "execute_result",
          "data": {
            "text/plain": [
              "array([-5.        , -4.8989899 , -4.7979798 , -4.6969697 , -4.5959596 ,\n",
              "       -4.49494949, -4.39393939, -4.29292929, -4.19191919, -4.09090909,\n",
              "       -3.98989899, -3.88888889, -3.78787879, -3.68686869, -3.58585859,\n",
              "       -3.48484848, -3.38383838, -3.28282828, -3.18181818, -3.08080808,\n",
              "       -2.97979798, -2.87878788, -2.77777778, -2.67676768, -2.57575758,\n",
              "       -2.47474747, -2.37373737, -2.27272727, -2.17171717, -2.07070707,\n",
              "       -1.96969697, -1.86868687, -1.76767677, -1.66666667, -1.56565657,\n",
              "       -1.46464646, -1.36363636, -1.26262626, -1.16161616, -1.06060606,\n",
              "       -0.95959596, -0.85858586, -0.75757576, -0.65656566, -0.55555556,\n",
              "       -0.45454545, -0.35353535, -0.25252525, -0.15151515, -0.05050505,\n",
              "        0.05050505,  0.15151515,  0.25252525,  0.35353535,  0.45454545,\n",
              "        0.55555556,  0.65656566,  0.75757576,  0.85858586,  0.95959596,\n",
              "        1.06060606,  1.16161616,  1.26262626,  1.36363636,  1.46464646,\n",
              "        1.56565657,  1.66666667,  1.76767677,  1.86868687,  1.96969697,\n",
              "        2.07070707,  2.17171717,  2.27272727,  2.37373737,  2.47474747,\n",
              "        2.57575758,  2.67676768,  2.77777778,  2.87878788,  2.97979798,\n",
              "        3.08080808,  3.18181818,  3.28282828,  3.38383838,  3.48484848,\n",
              "        3.58585859,  3.68686869,  3.78787879,  3.88888889,  3.98989899,\n",
              "        4.09090909,  4.19191919,  4.29292929,  4.39393939,  4.49494949,\n",
              "        4.5959596 ,  4.6969697 ,  4.7979798 ,  4.8989899 ,  5.        ])"
            ]
          },
          "metadata": {},
          "execution_count": 218
        }
      ]
    },
    {
      "cell_type": "code",
      "source": [
        "transition_mult(Pi_Fes,A,1)[0],transition_mult(Pi_Tanger,A,1)[0]"
      ],
      "metadata": {
        "id": "xJLG6ufA5Lwf",
        "outputId": "aab4ec12-3633-4cdd-f797-4e337f64a520",
        "colab": {
          "base_uri": "https://localhost:8080/"
        }
      },
      "execution_count": 219,
      "outputs": [
        {
          "output_type": "execute_result",
          "data": {
            "text/plain": [
              "(0.0, 0.25)"
            ]
          },
          "metadata": {},
          "execution_count": 219
        }
      ]
    },
    {
      "cell_type": "code",
      "source": [
        "\n",
        "X = np.array([[transition_mult(Pi_Fes,A,i)[0],transition_mult(Pi_Tanger,A,i)[0],transition_mult(Pi_Rabat,A,i)[0]] for i  in range(1,12 ,1)])\n",
        "\n",
        "Y =np.array([[transition_mult(Pi_Fes,A,i)[1],transition_mult(Pi_Tanger,A,i)[1],transition_mult(Pi_Rabat,A,i)[1]] for i  in range(1,12 ,1)])\n",
        "\n",
        "Z =np.array([[transition_mult(Pi_Fes,A,i)[2],transition_mult(Pi_Tanger,A,i)[2],transition_mult(Pi_Rabat,A,i)[2]] for i  in range(1,12 ,1)])\n"
      ],
      "metadata": {
        "id": "QG5xFIlO3CoS"
      },
      "execution_count": 220,
      "outputs": []
    },
    {
      "cell_type": "code",
      "source": [
        "X"
      ],
      "metadata": {
        "id": "CWIAZKmPACE0",
        "outputId": "711c8203-fe6c-4064-aa61-403f81a777d2",
        "colab": {
          "base_uri": "https://localhost:8080/"
        }
      },
      "execution_count": 221,
      "outputs": [
        {
          "output_type": "execute_result",
          "data": {
            "text/plain": [
              "array([[0.        , 0.25      , 0.25      ],\n",
              "       [0.25      , 0.1875    , 0.1875    ],\n",
              "       [0.1875    , 0.203125  , 0.203125  ],\n",
              "       [0.203125  , 0.19921875, 0.19921875],\n",
              "       [0.19921875, 0.20019531, 0.20019531],\n",
              "       [0.20019531, 0.19995117, 0.19995117],\n",
              "       [0.19995117, 0.20001221, 0.20001221],\n",
              "       [0.20001221, 0.19999695, 0.19999695],\n",
              "       [0.19999695, 0.20000076, 0.20000076],\n",
              "       [0.20000076, 0.19999981, 0.19999981],\n",
              "       [0.19999981, 0.20000005, 0.20000005]])"
            ]
          },
          "metadata": {},
          "execution_count": 221
        }
      ]
    },
    {
      "cell_type": "code",
      "source": [
        "X[10][0]"
      ],
      "metadata": {
        "id": "qowHFJGi_hZQ",
        "outputId": "7b90bed9-0bf2-41f8-c246-c5472aa4794f",
        "colab": {
          "base_uri": "https://localhost:8080/"
        }
      },
      "execution_count": 222,
      "outputs": [
        {
          "output_type": "execute_result",
          "data": {
            "text/plain": [
              "0.19999980926513672"
            ]
          },
          "metadata": {},
          "execution_count": 222
        }
      ]
    },
    {
      "cell_type": "code",
      "source": [
        "\n",
        "# Assuming you already have X, Y, and Z defined\n",
        "\n",
        "# Create arrays for x_fes, y_fes, and z_fes\n",
        "x_fes = np.array([X[i][0] for i in range(0, 11, 1)])\n",
        "y_fes = np.array([Y[i][0] for i in range(0, 11, 1)])\n",
        "z_fes = np.array([Z[i][0] for i in range(0, 11, 1)])\n",
        "\n",
        "# Plot x_fes, y_fes, and z_fes in the same plot\n",
        "plt.plot(range(11), x_fes, label='X_fes', marker='o')\n",
        "plt.plot(range(11), y_fes, label='Y_fes', marker='o')\n",
        "plt.plot(range(11), z_fes, label='Z_fes', marker='o')\n",
        "\n",
        "# Set labels and title\n",
        "plt.xlabel('i')\n",
        "plt.ylabel('Values')\n",
        "plt.title('2D Plot of X_fes, Y_fes, Z_fes vs i')\n",
        "\n",
        "# Show legend\n",
        "plt.legend()\n",
        "\n",
        "# Show the plot\n",
        "plt.show()\n"
      ],
      "metadata": {
        "id": "CPE9-5TFBMSZ",
        "outputId": "c3879fa5-5178-4592-a9c0-abddffefb750",
        "colab": {
          "base_uri": "https://localhost:8080/",
          "height": 472
        }
      },
      "execution_count": 239,
      "outputs": [
        {
          "output_type": "display_data",
          "data": {
            "text/plain": [
              "<Figure size 640x480 with 1 Axes>"
            ],
            "image/png": "[encoded data removed]"
          },
          "metadata": {}
        }
      ]
    },
    {
      "cell_type": "code",
      "source": [
        "# Assuming you already have X, Y, and Z defined\n",
        "\n",
        "# Create arrays for x_tanger, y_tanger, and z_tanger\n",
        "x_tanger = np.array([X[i][1] for i in range(0, 11, 1)])\n",
        "y_tanger = np.array([Y[i][1] for i in range(0, 11, 1)])\n",
        "z_tanger = np.array([Z[i][1] for i in range(0, 11, 1)])\n",
        "\n",
        "# Plot x_tanger, y_tanger, and z_tanger in the same plot\n",
        "plt.plot(range(11), x_tanger, label='X_tanger', marker='o')\n",
        "plt.plot(range(11), y_tanger, label='Y_tanger', marker='o')\n",
        "plt.plot(range(11), z_tanger, label='Z_tanger', marker='o')\n",
        "\n",
        "# Set labels and title\n",
        "plt.xlabel('i')\n",
        "plt.ylabel('Values')\n",
        "plt.title('2D Plot of X_tanger, Y_tanger, Z_tanger vs i')\n",
        "\n",
        "# Show legend\n",
        "plt.legend()\n",
        "\n",
        "# Show the plot\n",
        "plt.show()"
      ],
      "metadata": {
        "id": "hQVNlpVnFHqZ",
        "outputId": "558399d9-2d76-46c9-f1e7-03d5796b667d",
        "colab": {
          "base_uri": "https://localhost:8080/",
          "height": 472
        }
      },
      "execution_count": 244,
      "outputs": [
        {
          "output_type": "display_data",
          "data": {
            "text/plain": [
              "<Figure size 640x480 with 1 Axes>"
            ],
            "image/png": "[encoded data removed]"
          },
          "metadata": {}
        }
      ]
    },
    {
      "cell_type": "code",
      "source": [
        "# Assuming you already have X, Y, and Z defined\n",
        "\n",
        "x_rabat = np.array([X[i][2] for i in range(0, 11, 1)])\n",
        "y_rabat = np.array([Y[i][2] for i in range(0, 11, 1)])\n",
        "z_rabat = np.array([Z[i][2] for i in range(0, 11, 1)])\n",
        "\n",
        "# Plot x_rabat, y_rabat, and z_rabat in the same plot\n",
        "plt.plot(range(11), x_rabat, label='X_rabat', marker='o')\n",
        "plt.plot(range(11), y_rabat, label='Y_rabat', marker='o')\n",
        "plt.plot(range(11), z_rabat, label='Z_rabat', marker='o')\n",
        "\n",
        "# Set labels and title\n",
        "plt.xlabel('i')\n",
        "plt.ylabel('Values')\n",
        "plt.title('2D Plot of X_rabat, Y_rabat, Z_rabat vs i')\n",
        "\n",
        "# Show legend\n",
        "plt.legend()\n",
        "\n",
        "# Show the plot\n",
        "plt.show()"
      ],
      "metadata": {
        "id": "R4KALdDzF0hg",
        "outputId": "5f6f515e-640b-4a97-8d62-04658ac24741",
        "colab": {
          "base_uri": "https://localhost:8080/",
          "height": 472
        }
      },
      "execution_count": 243,
      "outputs": [
        {
          "output_type": "display_data",
          "data": {
            "text/plain": [
              "<Figure size 640x480 with 1 Axes>"
            ],
            "image/png": "[encoded data removed]"
          },
          "metadata": {}
        }
      ]
    },
    {
      "cell_type": "code",
      "source": [
        "x_fes"
      ],
      "metadata": {
        "id": "3yYWGamL_ZeV",
        "outputId": "79dd60ce-861c-4370-8a67-a0df411c68b3",
        "colab": {
          "base_uri": "https://localhost:8080/"
        }
      },
      "execution_count": 229,
      "outputs": [
        {
          "output_type": "execute_result",
          "data": {
            "text/plain": [
              "array([0.        , 0.25      , 0.1875    , 0.203125  , 0.19921875,\n",
              "       0.20019531, 0.19995117, 0.20001221, 0.19999695, 0.20000076,\n",
              "       0.19999981])"
            ]
          },
          "metadata": {},
          "execution_count": 229
        }
      ]
    },
    {
      "cell_type": "code",
      "source": [
        "X_fes = [transition_mult(Pi_Fes,A,i)[0] for i  in range(1,12 ,1)]\n",
        "X_fes_1 = np.array(X)"
      ],
      "metadata": {
        "id": "3ruQDARl8FfW"
      },
      "execution_count": 225,
      "outputs": []
    },
    {
      "cell_type": "code",
      "source": [
        "X_fes_1"
      ],
      "metadata": {
        "id": "5V9Wd8zb8O93",
        "outputId": "0408f82e-48f1-4494-e2ae-3ba5d5079dcc",
        "colab": {
          "base_uri": "https://localhost:8080/"
        }
      },
      "execution_count": 226,
      "outputs": [
        {
          "output_type": "execute_result",
          "data": {
            "text/plain": [
              "array([[0.        , 0.25      , 0.25      ],\n",
              "       [0.25      , 0.1875    , 0.1875    ],\n",
              "       [0.1875    , 0.203125  , 0.203125  ],\n",
              "       [0.203125  , 0.19921875, 0.19921875],\n",
              "       [0.19921875, 0.20019531, 0.20019531],\n",
              "       [0.20019531, 0.19995117, 0.19995117],\n",
              "       [0.19995117, 0.20001221, 0.20001221],\n",
              "       [0.20001221, 0.19999695, 0.19999695],\n",
              "       [0.19999695, 0.20000076, 0.20000076],\n",
              "       [0.20000076, 0.19999981, 0.19999981],\n",
              "       [0.19999981, 0.20000005, 0.20000005]])"
            ]
          },
          "metadata": {},
          "execution_count": 226
        }
      ]
    },
    {
      "cell_type": "code",
      "source": [
        "X_fes = [transition_mult(Pi_Fes,A,i)[0] for i  in range(1,12 ,1)]"
      ],
      "metadata": {
        "id": "15HAaK-V8d-q"
      },
      "execution_count": 227,
      "outputs": []
    },
    {
      "cell_type": "code",
      "source": [],
      "metadata": {
        "id": "GO_sPlHh-hZM"
      },
      "execution_count": 227,
      "outputs": []
    }
  ]
}