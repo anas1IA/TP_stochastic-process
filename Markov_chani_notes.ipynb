{
  "nbformat": 4,
  "nbformat_minor": 0,
  "metadata": {
    "colab": {
      "provenance": [],
      "authorship_tag": "ABX9TyOMf5GWooDTLV/uUQEjongm",
      "include_colab_link": true
    },
    "kernelspec": {
      "name": "python3",
      "display_name": "Python 3"
    },
    "language_info": {
      "name": "python"
    }
  },
  "cells": [
    {
      "cell_type": "markdown",
      "metadata": {
        "id": "view-in-github",
        "colab_type": "text"
      },
      "source": [
        "<a href=\"https://colab.research.google.com/github/anas1IA/TP_stochastic-process/blob/main/Markov_chani_notes.ipynb\" target=\"_parent\"><img src=\"https://colab.research.google.com/assets/colab-badge.svg\" alt=\"Open In Colab\"/></a>"
      ]
    },
    {
      "cell_type": "code",
      "execution_count": 1,
      "metadata": {
        "id": "YMXyHnA90MmY"
      },
      "outputs": [],
      "source": [
        "import numpy as np"
      ]
    },
    {
      "cell_type": "code",
      "source": [
        "A = np.array([[0.95,0.04,0.01,0],[0,0.9,0.05,0.05],[0,0,0.8,0.2],[1,0,0,0]])"
      ],
      "metadata": {
        "id": "-uIGaYzi3y59"
      },
      "execution_count": 2,
      "outputs": []
    },
    {
      "cell_type": "code",
      "source": [
        "A"
      ],
      "metadata": {
        "colab": {
          "base_uri": "https://localhost:8080/"
        },
        "id": "A5F1dGme4I47",
        "outputId": "71ceaa58-6a63-4017-ed3d-65df03a735ac"
      },
      "execution_count": 3,
      "outputs": [
        {
          "output_type": "execute_result",
          "data": {
            "text/plain": [
              "array([[0.95, 0.04, 0.01, 0.  ],\n",
              "       [0.  , 0.9 , 0.05, 0.05],\n",
              "       [0.  , 0.  , 0.8 , 0.2 ],\n",
              "       [1.  , 0.  , 0.  , 0.  ]])"
            ]
          },
          "metadata": {},
          "execution_count": 3
        }
      ]
    },
    {
      "cell_type": "code",
      "source": [
        "B = A@A@A@A@A@A@A@A@A@A@A@A@A@A@A@A@A@A@A@A@A@A@A@A@A@A@A@A@A@A@A@A@A@A@A@A@A@A@A@A@A@A@A@A@A@A@A@A@A@A@A@A@A@A@A@A@A@A@A@A@A@A@A@A@A@A@A@A@A@A@A@A@A@A@A@A@A@A@A@A@A@A@A@A@A@A@A@A@A@A@A@A@A@A"
      ],
      "metadata": {
        "id": "3NdmjT1k4PIO"
      },
      "execution_count": 35,
      "outputs": []
    },
    {
      "cell_type": "code",
      "source": [
        "32*B"
      ],
      "metadata": {
        "colab": {
          "base_uri": "https://localhost:8080/"
        },
        "id": "Fq8IXtXx457o",
        "outputId": "2600e71f-fb9d-441d-d343-5563c48b48e1"
      },
      "execution_count": 36,
      "outputs": [
        {
          "output_type": "execute_result",
          "data": {
            "text/plain": [
              "array([[19.99999987,  8.00000009,  3.00000003,  1.00000001],\n",
              "       [20.00000021,  7.99999974,  3.00000005,  1.        ],\n",
              "       [20.00000039,  8.00000006,  2.99999964,  0.99999991],\n",
              "       [19.99999985,  8.00000011,  3.00000003,  1.00000001]])"
            ]
          },
          "metadata": {},
          "execution_count": 36
        }
      ]
    },
    {
      "cell_type": "code",
      "source": [
        "Pi = B[0,:]\n",
        "Pi"
      ],
      "metadata": {
        "colab": {
          "base_uri": "https://localhost:8080/"
        },
        "id": "IJj_UWVH49Vx",
        "outputId": "5fd043bc-ab2f-4456-a152-6920f6ed16e0"
      },
      "execution_count": 17,
      "outputs": [
        {
          "output_type": "execute_result",
          "data": {
            "text/plain": [
              "array([0.62507809, 0.24997268, 0.09371062, 0.03123861])"
            ]
          },
          "metadata": {},
          "execution_count": 17
        }
      ]
    },
    {
      "cell_type": "code",
      "source": [
        "suM = np.sum(Pi)\n",
        "suM"
      ],
      "metadata": {
        "colab": {
          "base_uri": "https://localhost:8080/"
        },
        "id": "V_lZLEF-6o9c",
        "outputId": "744660a5-fe34-4ac3-8bd9-c8ff028898a4"
      },
      "execution_count": 22,
      "outputs": [
        {
          "output_type": "execute_result",
          "data": {
            "text/plain": [
              "0.9999999999999994"
            ]
          },
          "metadata": {},
          "execution_count": 22
        }
      ]
    },
    {
      "cell_type": "code",
      "source": [
        "R = np.array([900,800,400,0])"
      ],
      "metadata": {
        "id": "mCYTks-X6K2S"
      },
      "execution_count": 18,
      "outputs": []
    },
    {
      "cell_type": "code",
      "source": [
        "Pi*R"
      ],
      "metadata": {
        "colab": {
          "base_uri": "https://localhost:8080/"
        },
        "id": "pu6WoRo370cm",
        "outputId": "59c1744f-ee0b-47a8-ff83-03597b55c238"
      },
      "execution_count": 29,
      "outputs": [
        {
          "output_type": "execute_result",
          "data": {
            "text/plain": [
              "array([562.57027682, 199.97814098,  37.48424987,   0.        ])"
            ]
          },
          "metadata": {},
          "execution_count": 29
        }
      ]
    },
    {
      "cell_type": "code",
      "source": [
        "K = np.sum(Pi*R)\n",
        "K"
      ],
      "metadata": {
        "colab": {
          "base_uri": "https://localhost:8080/"
        },
        "id": "m8ur7k_176lx",
        "outputId": "8259df7c-4c03-40f3-8d9a-ba686b5c1f7d"
      },
      "execution_count": 31,
      "outputs": [
        {
          "output_type": "execute_result",
          "data": {
            "text/plain": [
              "800.0326676690291"
            ]
          },
          "metadata": {},
          "execution_count": 31
        }
      ]
    },
    {
      "cell_type": "code",
      "source": [
        "Pi@R"
      ],
      "metadata": {
        "colab": {
          "base_uri": "https://localhost:8080/"
        },
        "id": "xl7CoglR6Uyy",
        "outputId": "45b5c775-48e9-41f1-c23f-6484b5c102ad"
      },
      "execution_count": 20,
      "outputs": [
        {
          "output_type": "execute_result",
          "data": {
            "text/plain": [
              "800.0326676690291"
            ]
          },
          "metadata": {},
          "execution_count": 20
        }
      ]
    },
    {
      "cell_type": "code",
      "source": [
        " L = np.array([[0,0,0,0,0,1],[0,0,0,0,0,1],[0,0,0,0,0,1],[0,0,0,0,0,1],[1/10,1/10,2/10,3/10,3/10,0],[0,1/10,1/10,2/10,3/10,3/10]])\n",
        ""
      ],
      "metadata": {
        "id": "3aeIxsIA89f7"
      },
      "execution_count": 41,
      "outputs": []
    },
    {
      "cell_type": "code",
      "source": [
        "C = L@L@L@L@L@L@L@L@L@L@L@L@L@L@L@L@L@L@L@L@L@L@L@L@L@L@L@L@L@L@L@L@L@L@L@L@L@L@L@L@L@L@L@L@L@L@L@L@L@L@L@L@L@L@L@L"
      ],
      "metadata": {
        "id": "3d9AjTYbNrs_"
      },
      "execution_count": 44,
      "outputs": []
    },
    {
      "cell_type": "code",
      "source": [
        "Z=149*C\n",
        "Z"
      ],
      "metadata": {
        "colab": {
          "base_uri": "https://localhost:8080/"
        },
        "id": "DNZU7Z2FOFF1",
        "outputId": "c754f845-9635-46fe-f481-b0d743eb4221"
      },
      "execution_count": 65,
      "outputs": [
        {
          "output_type": "execute_result",
          "data": {
            "text/plain": [
              "array([[ 3., 10., 13., 23., 30., 70.],\n",
              "       [ 3., 10., 13., 23., 30., 70.],\n",
              "       [ 3., 10., 13., 23., 30., 70.],\n",
              "       [ 3., 10., 13., 23., 30., 70.],\n",
              "       [ 3., 10., 13., 23., 30., 70.],\n",
              "       [ 3., 10., 13., 23., 30., 70.]])"
            ]
          },
          "metadata": {},
          "execution_count": 65
        }
      ]
    },
    {
      "cell_type": "code",
      "source": [
        "Pi =Z[0]\n"
      ],
      "metadata": {
        "id": "3HXtJzOnO4K7"
      },
      "execution_count": 59,
      "outputs": []
    },
    {
      "cell_type": "code",
      "source": [
        "d = Pi*np.array([-2,-1,0,1,2,3])/149\n"
      ],
      "metadata": {
        "id": "RzZ_LMJMPokf"
      },
      "execution_count": 62,
      "outputs": []
    },
    {
      "cell_type": "code",
      "source": [
        "np.sum(d)"
      ],
      "metadata": {
        "colab": {
          "base_uri": "https://localhost:8080/"
        },
        "id": "2Nx06T70QmnR",
        "outputId": "6a9a1079-9301-4d95-9ded-67b7d782cd90"
      },
      "execution_count": 63,
      "outputs": [
        {
          "output_type": "execute_result",
          "data": {
            "text/plain": [
              "1.8590604026845632"
            ]
          },
          "metadata": {},
          "execution_count": 63
        }
      ]
    },
    {
      "cell_type": "code",
      "source": [
        "# create  10 pages web( contain the liens that guide un to an other pages ) each page in the case is state (PageRank)\n"
      ],
      "metadata": {
        "id": "xaIsDJHFQr5r"
      },
      "execution_count": null,
      "outputs": []
    }
  ]
}